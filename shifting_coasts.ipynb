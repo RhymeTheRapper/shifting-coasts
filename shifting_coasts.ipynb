{
  "metadata": {
    "kernelspec": {
      "name": "python3",
      "display_name": "Python 3"
    },
    "language_info": {
      "name": "python"
    },
    "colab": {
      "provenance": []
    }
  },
  "nbformat_minor": 0,
  "nbformat": 4,
  "cells": [
    {
      "cell_type": "code",
      "source": [
        "print(\"hello world\")"
      ],
      "metadata": {
        "trusted": true,
        "id": "MeHkiZkFnojt",
        "outputId": "fa047dda-e648-40c2-cdbf-117f40856dff"
      },
      "outputs": [
        {
          "name": "stdout",
          "text": "hello world\n",
          "output_type": "stream"
        }
      ],
      "execution_count": null
    },
    {
      "cell_type": "code",
      "source": [
        "print(\"save\")"
      ],
      "metadata": {
        "trusted": true,
        "colab": {
          "base_uri": "https://localhost:8080/"
        },
        "id": "MOdklXMZnojv",
        "outputId": "aeacc9fb-200e-4508-ea5b-36a4d54d810c"
      },
      "outputs": [
        {
          "output_type": "stream",
          "name": "stdout",
          "text": [
            "save\n"
          ]
        }
      ],
      "execution_count": 2
    },
    {
      "cell_type": "code",
      "source": [],
      "metadata": {
        "id": "ksJqmG1-oVSV"
      },
      "execution_count": null,
      "outputs": []
    }
  ]
}